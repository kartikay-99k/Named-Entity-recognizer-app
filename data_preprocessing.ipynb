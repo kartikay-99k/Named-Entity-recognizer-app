{
 "cells": [
  {
   "cell_type": "code",
   "execution_count": 1,
   "id": "23cf1857",
   "metadata": {},
   "outputs": [],
   "source": [
    "from pdf2image import convert_from_path\n",
    "from pytesseract import image_to_string\n"
   ]
  },
  {
   "cell_type": "code",
   "execution_count": 2,
   "id": "f9b11f05",
   "metadata": {},
   "outputs": [],
   "source": [
    "def convert_pdf_to_img(pdf_file):\n",
    "    return convert_from_path(pdf_file)\n",
    "\n",
    "\n",
    "def convert_image_to_text(file):\n",
    "    text = image_to_string(file)\n",
    "    return text\n",
    "\n",
    "\n",
    "\n",
    "def get_text_from_any_pdf(pdf_file):\n",
    "    images = convert_pdf_to_img(pdf_file)\n",
    "    final_text = \"\"\n",
    "    for pg, img in enumerate(images):\n",
    "        \n",
    "        final_text += convert_image_to_text(img)\n",
    "        #print(\"Page n°{}\".format(pg))\n",
    "        #print(convert_image_to_text(img))\n",
    "    \n",
    "    return final_text"
   ]
  },
  {
   "cell_type": "code",
   "execution_count": 3,
   "id": "5efa4feb",
   "metadata": {},
   "outputs": [],
   "source": [
    "tx = convert_image_to_text('financial_document_payslip_2019_12_09-15_53_42_493711_.jpg')"
   ]
  },
  {
   "cell_type": "code",
   "execution_count": 4,
   "id": "e48b9527",
   "metadata": {},
   "outputs": [
    {
     "data": {
      "text/plain": [
       "'Tata AIG General Insurance Company Ltd. TATA\\nPeninsula Business Park, 15th Floor, Tower-A, G.K. Marg, A IG\\nLower Parel, Mumbai - 400013. £\\n\\nINSURANCE\\n\\nWITH YOU ALWAYS\\nPAYSLIP FOR THE MONTH OF DECEMBER 2018\\n\\nNAME :ARUN KUMAR GHORPADE EMP NO 23957681\\nEMP PAN :ALYPG8345F EMP DOB :28/08/1983\\nPF NO :MHBAN00451380000027517 EMP DOJ :05/11/2018\\nUAN 7100090421014 GRADE :Band 2\\nA/C NO :918010082299760 STD_DAYS $3\\nBANK :AXIS BANK LIMITED GENDER :M\\nLOCATION :HYDERABAD PMT MODE :NEFT\\n\\nCOST 20832\\nDEPT :KPG — Canara Bank DYS WRKD #31..00:\\n\\nESIC NO F\\nDESG :Relationship Manager\\nPARTICULARS MAST SALARY EARNINGS| PARTICULARS DEDUCTIONS\\nBASIC 20625 20625| PROVIDENT FUND 2475\\nHOUSE RENT ALLOWANCE 1031 1031| PROFESSION TAX 200\\nSUPPLEMENTARY ALLOWANCE 36677 36677| LABOUR WELFARE FUND 2\\nSTATUTORY BONUS 700 700\\nGROSS EARNINGS 59033 59033| TOTAL DEDUCTIONS 2677\\nNET PAY 56356\\n\\n(RUPEES FIFTY SIX THOUSAND THREE HUNDRED FIFTY SIX ONLY)\\n\\n*This is a computer generated payslip and does not require signature.\\nNote: Food Coupon is reflecting in Earning and Deduction column for accounting purpose\\nNanhi kali deduction will not be taken for tax computation, you need to claim separately\\n\\nTAX CALCULATIONS DEDUCTION U/S TOA )sms  ¢ § aes es 6 SeewS & 2 BES\\n\\n———_——————— HRA REBATE 5018\\n\\nTOTAL 287295\\n\\nADD : PERKS & OTHERS 0 INVESTMENTS U/S: 80 Gsiwie « 6 « osorsium 3 © 0 osenaiwie 3 ow vsenenwin\\n\\nTOTAL GROSS 287295 PEF—DED 12045\\nLife Insurance Premium 24000\\n\\nLESS: DEDUCTION U/S 10/17 5018 TOTAL 36045\\n\\nLESS: PROFESSION TAX 1000\\n\\nLESS: STANDARD DEDUCTION 40000 INVESTMENTS U/S! 80 (OTH) ss esas ose peas 5 ve ee\\n\\nNET SALARY 241277 MEDICLAIMP MEDICLAIM PARENTS 28000\\n\\nLESS: HOUSING LOAN INTEREST 0\\n\\nLESS: INVEST. U/S 80C 36045\\n\\nLESS: INVESTMENTS U/S 80 (OTH) 25000\\n\\nTAXABLE INCOME 180232\\n\\nTOTAL TAX )\\n\\nLESS: TAX DEDUCTED AT SOURCE )\\n\\nBALANCE TAX PAYABLE 0\\n\\nBALANCE NUMBER OF MONTHS 0\\n\\nMONTHLY TAX )\\n\\n'"
      ]
     },
     "execution_count": 4,
     "metadata": {},
     "output_type": "execute_result"
    }
   ],
   "source": [
    "tx"
   ]
  },
  {
   "cell_type": "code",
   "execution_count": 5,
   "id": "d976ce31",
   "metadata": {},
   "outputs": [],
   "source": [
    "tx= tx.replace('\\n', '')"
   ]
  },
  {
   "cell_type": "code",
   "execution_count": 6,
   "id": "37f4d844",
   "metadata": {},
   "outputs": [
    {
     "name": "stdout",
     "output_type": "stream",
     "text": [
      "Tata AIG General Insurance Company Ltd. TATAPeninsula Business Park, 15th Floor, Tower-A, G.K. Marg, A IGLower Parel, Mumbai - 400013. £INSURANCEWITH YOU ALWAYSPAYSLIP FOR THE MONTH OF DECEMBER 2018NAME :ARUN KUMAR GHORPADE EMP NO 23957681EMP PAN :ALYPG8345F EMP DOB :28/08/1983PF NO :MHBAN00451380000027517 EMP DOJ :05/11/2018UAN 7100090421014 GRADE :Band 2A/C NO :918010082299760 STD_DAYS $3BANK :AXIS BANK LIMITED GENDER :MLOCATION :HYDERABAD PMT MODE :NEFTCOST 20832DEPT :KPG — Canara Bank DYS WRKD #31..00:ESIC NO FDESG :Relationship ManagerPARTICULARS MAST SALARY EARNINGS| PARTICULARS DEDUCTIONSBASIC 20625 20625| PROVIDENT FUND 2475HOUSE RENT ALLOWANCE 1031 1031| PROFESSION TAX 200SUPPLEMENTARY ALLOWANCE 36677 36677| LABOUR WELFARE FUND 2STATUTORY BONUS 700 700GROSS EARNINGS 59033 59033| TOTAL DEDUCTIONS 2677NET PAY 56356(RUPEES FIFTY SIX THOUSAND THREE HUNDRED FIFTY SIX ONLY)*This is a computer generated payslip and does not require signature.Note: Food Coupon is reflecting in Earning and Deduction column for accounting purposeNanhi kali deduction will not be taken for tax computation, you need to claim separatelyTAX CALCULATIONS DEDUCTION U/S TOA )sms  ¢ § aes es 6 SeewS & 2 BES———_——————— HRA REBATE 5018TOTAL 287295ADD : PERKS & OTHERS 0 INVESTMENTS U/S: 80 Gsiwie « 6 « osorsium 3 © 0 osenaiwie 3 ow vsenenwinTOTAL GROSS 287295 PEF—DED 12045Life Insurance Premium 24000LESS: DEDUCTION U/S 10/17 5018 TOTAL 36045LESS: PROFESSION TAX 1000LESS: STANDARD DEDUCTION 40000 INVESTMENTS U/S! 80 (OTH) ss esas ose peas 5 ve eeNET SALARY 241277 MEDICLAIMP MEDICLAIM PARENTS 28000LESS: HOUSING LOAN INTEREST 0LESS: INVEST. U/S 80C 36045LESS: INVESTMENTS U/S 80 (OTH) 25000TAXABLE INCOME 180232TOTAL TAX )LESS: TAX DEDUCTED AT SOURCE )BALANCE TAX PAYABLE 0BALANCE NUMBER OF MONTHS 0MONTHLY TAX )\n"
     ]
    }
   ],
   "source": [
    "print(tx)"
   ]
  },
  {
   "cell_type": "code",
   "execution_count": 7,
   "id": "a7dedaa6",
   "metadata": {},
   "outputs": [
    {
     "name": "stdout",
     "output_type": "stream",
     "text": [
      "BISADO SECURITY SOLUTIONS PVT LTD PAYSLIP  MONTH OF January 2019  NORMAL DUTIES 31.00  OPERATION MANAGER DESIGNATION  Employee Code 1161 PF NO  Name LK Pradeep ESI NO  Fathers Name LN Krishnan UAN 101019469879  CONV OTHERS SPL UNIFORM  WASHING BONUS  oO OO O 0 ODO ODO OO oO OO ODO OO ODO ODO OO oO Oo ODO OO ODO ODO OO  oO lo)  TOT DEDT  OT PAY OT ESI  G 1  BANK  AUTHORISED SIGNATORY \n",
      "\n",
      "\n",
      "\n",
      "\n",
      "Tata AIG General Insurance Company Ltd. TATA Peninsula Business Park, 15th Floor, Tower-A, G.K. Marg, A IG Lower Parel, Mumbai - 400013. £  INSURANCE  WITH YOU ALWAYS PAYSLIP FOR THE MONTH OF DECEMBER 2018  NAME :ARUN KUMAR GHORPADE EMP NO 23957681 EMP PAN :ALYPG8345F EMP DOB :28/08/1983 PF NO :MHBAN00451380000027517 EMP DOJ :05/11/2018 UAN 7100090421014 GRADE :Band 2 A/C NO :918010082299760 STD_DAYS $3 BANK :AXIS BANK LIMITED GENDER :M LOCATION :HYDERABAD PMT MODE :NEFT  COST 20832 DEPT :KPG — Canara Bank DYS WRKD #31..00:  ESIC NO F DESG :Relationship Manager PARTICULARS MAST SALARY EARNINGS| PARTICULARS DEDUCTIONS BASIC 20625 20625| PROVIDENT FUND 2475 HOUSE RENT ALLOWANCE 1031 1031| PROFESSION TAX 200 SUPPLEMENTARY ALLOWANCE 36677 36677| LABOUR WELFARE FUND 2 STATUTORY BONUS 700 700 GROSS EARNINGS 59033 59033| TOTAL DEDUCTIONS 2677 NET PAY 56356  (RUPEES FIFTY SIX THOUSAND THREE HUNDRED FIFTY SIX ONLY)  *This is a computer generated payslip and does not require signature. Note: Food Coupon is reflecting in Earning and Deduction column for accounting purpose Nanhi kali deduction will not be taken for tax computation, you need to claim separately  TAX CALCULATIONS DEDUCTION U/S TOA )sms  ¢ § aes es 6 SeewS & 2 BES  ———_——————— HRA REBATE 5018  TOTAL 287295  ADD : PERKS & OTHERS 0 INVESTMENTS U/S: 80 Gsiwie « 6 « osorsium 3 © 0 osenaiwie 3 ow vsenenwin  TOTAL GROSS 287295 PEF—DED 12045 Life Insurance Premium 24000  LESS: DEDUCTION U/S 10/17 5018 TOTAL 36045  LESS: PROFESSION TAX 1000  LESS: STANDARD DEDUCTION 40000 INVESTMENTS U/S! 80 (OTH) ss esas ose peas 5 ve ee  NET SALARY 241277 MEDICLAIMP MEDICLAIM PARENTS 28000  LESS: HOUSING LOAN INTEREST 0  LESS: INVEST. U/S 80C 36045  LESS: INVESTMENTS U/S 80 (OTH) 25000  TAXABLE INCOME 180232  TOTAL TAX )  LESS: TAX DEDUCTED AT SOURCE )  BALANCE TAX PAYABLE 0  BALANCE NUMBER OF MONTHS 0  MONTHLY TAX )  \n",
      "\n",
      "\n",
      "\n",
      "\n",
      "9/8/2018 Pay Slip  Alcon Laboratories (India) Pvt. Ltd.  Pay Slip for the Month of JUNE 2018 EMP CODE : 40004264 LOCATION : TELANGANA EMPNAME : RATHNAKAR V SN PAN : ALWPV2882L DOJ : 01-Dec-2011 PF NO : KN//19618/919 DESIGNATION : EQUIPMENT MANAGER - VR UAN : 100309243262 COST CENTRE : 6582780522 PAID DAYS 230 BANK NAME : HDFC BANK LOP DAYS 20 ACCOUNT NUMBER :01261050095226 NJ ARREAR DAYS 20  Uh NOVARTIS  EARNINGS AMOUNT | DEDUCTIONS  BASIC PAY 51,577.00 | PROVIDENT FUND. HRA 25,789.00 | INCOME TAX SUPPLEMENTARY ALLOWANCE 11,791.00 | PROFESSION TAX  GROSS EARNINGS 89,157.00 | GROSS DEDUCTIONS  NET PAY = : 77,400.00 IN WORDS : Rupees Seventy Seven Thousand Four hundred Only  This is a system generated document and does not require signature. For any assistance/clarifications please contact: Email: hroperations.india@novartis.com. Fax: +91 40 67584001. Toll-free No: 1800 108 4000.  BB Modo - manage your online data, Learn More>  \n",
      "\n",
      "\n",
      "\n",
      "\n",
      "Wallem Hang Kona J =  As Owner's Agent and on behalf of  Wallem Shipmanagement Limuted PAYSLIP FOR December 2018 - DECLAN DUFF (Closed payroll)  For : SINGH MANINDER ( Nationality Indian; Crew ID: 24229)  Vessel DECLAN DUFF Movement type ON BOARD Rank. COFF From: 29/Sep/2018 due on 26/Jan/2019 Interval: 01 Dec - 31 Dec (Total days: 30 Currency USD (adjustment -1)) Wage elements Earnings Deductions Accruals  Basic Wage 215000  Fiaed Overtime 135000  Loyalty Bonus 200.00  Owners Bonus 2.23100  Pension Fund 90.00  Trade Allowance 1,10000  On Board Cash Advance 200.00  Communicanons 5.85  Slopchest 3109  Leave Pay (this month) 645.00 645.00  Leave Subsistence 64.00 64.00  Uniform Aliowance 20.00 2000  Total 7,850.00 236.94 729.00  Others Earnings Deductions Summary  Allotment(35367660744) 7,000.00 Total earnings 7,850 00  Total 0.00 7,000.00 _ Total deductions 7,236 94 Total accruals 72909 Net earnings this month -115.94  BALANCES BF. Crt. Cr  Leave Pay 1,333.00 64500 1,978.00 Leave Subsistence 132.27 64.00 196.27 Uniform Allowance 41.33 2000 61.33 Leave days 1653 8.00 24.53 Wage balance 572.18 115.94 456.24  Confirmed  MASTER (with@Netel stamp)  ***THIS IS STRICTLY CONFIDENTIAL***  Scanned with CamScanner \n",
      "\n",
      "\n",
      "\n",
      "\n",
      "$1910 | 2 oe aes 1 |_. > Se eae soueApy Ale[es ee EAR AOD Meee SR | 725 SER eR: [RRR RENN (| |. Sit Sie Remmi | olen RE sad  SUOljoNped  yOOSTEPSCIOL AequINN dd  0 SAV CIVd s'0l 14 i) SAVG AVd JO SSOT HOT61dddud ‘ON NVd Ie SAVd HLNOW reuuayD NOILVOO1 regen euUY aNVN HONVad INVA SuporAre 8 Seg INGNLavdad is ANVN UNV jueudojsaeq ssoursng 1e8ueNIg NOLLVNDISaG 09bZ9ET 1002 YaGNNN O/V INVA 810%-994-2Z ONINIOL AO ALVA  AAV MVAVNIA aNVN AGAO TING ZSIOIW 6T ATNC JO YRUOW Uj} 10) AIISAEd ‘6ZO 0009 - !euUsYD ‘peoy weyd1UeW UOS|ON 4S19MO eplio|4 ‘A00]4 PUT ‘O€/SET*ON py] 82ALd (EIPUT) OUD2}0W -  Lae sont eQ  GI AIAO TAWA  \n",
      "\n",
      "\n",
      "\n",
      "\n",
      "Page 1  HEAD OFFICE ama Were fear, da4 WATT  HUMAN RESOURCES DEPT,SALARY DIVISION  ta afte Weaee, Ae  SALARY CREDIT ADVICE FOR THE MONTH OF: MAY 2019  ofan ag S /EMPLID: 209656 am / NAME :SIVAKUMAR G  aaa / SCALE : OF DESG :COMPUTER OFFICER DEPT/BRANCH HO - I. T. / TM15 - HEAD OFFICE CURRENT PENSION OPTION : DCRBS  /EX SER :NO/ODLMT: _ 0.00  aa EARNINGS:  BASIC PAY  DEARNESS ALLOWANCE HOUSE RENT ALLOWANCE CCA  DA ON SPECIAL ALLOW SPECIAL ALLOWANCE  Wed 314/GROSS EARNINGS:  welfai /DEDUCTIONS:  PROFESSIONAL TAX DCPS BOI OFF ASSN (MUMBAI + GOA)  RENT RECOVERY INCOME TAX  aa welfrai /GROSS DEDUCTIONS:  var fea wat Raa aca NET SALARY CREDITED:  frafia REGULAR  23700.00 15286.50 2133.00 870.00 1184.70 1836.75  200.00 3898.65 200.00  ‘waa weld a% OF GROSS DEDUCTION 11.77% (@efta att ue agaifia eat ufea) / (INCLUDING NOTIONAL INTEREST ON CLEAN OD LIMIT)  /BSBS:  Vaart ADJUSTMENT  fe vis fan  Bank of inci BOD * aNn@DATE : 31-MAY-2019 ore fate D.O.B : 25/07/1992 Sarey fae D.OJ : 24/07/2018 uate fete DT.PROM : oe wat fare DT.INC eta fae DT.TOP  oa ak  TOTAL PARTICULARS  23700.00 STG:1 (23700) 15286.50 SLAB: 645 2133.00 A 870.00 1 1184.70 1836.75  200.00 MH 3898.65 000110100001045 200.00 1000.00 0 Sq. Mtrs. 0.00 PAN: BBUPG5766M  39712.30  012211110000772 \n",
      "\n",
      "\n",
      "\n",
      "\n",
      "Cognizant Technology Solutions India Private Ltd Co gni 270 nt Payslip for the month of Feb 2019 Financial Period 2018-2019 Private & Confidential  Team Leader PAN BNxxxxxx6F isos esi  100564616304 Available Calendar Days 28 Paid Days 28  Medical Allowance |  Special Allowance 39, BPS Transport Allowance Payout 4,200  098  (A) Total Earnings B) Total Deduction  Net Salary = (A) - (B) 69,129  Registered Office:Cognizant Technology Solutions India Private Limited # 5/535, old Mahabalipuram Road, Chennai - 600 097.  Page 1 of 1 \n",
      "\n",
      "\n",
      "\n",
      "\n",
      "GEINE TECHNOLOGIES INDIA PRIVATE LIMITED  304, SITARAM MANSION, 718/21 JOSHI ROAD, KAROLBAGH, -110005, DELHI, INDIA  Pay slip for the month Dec, 2018  Emp Code : GEINE-0013 Branch : Gurgaon  Emp Name : Satpal Yadav Basic Salary : 15,000  Designation : Sr. System Engineer UAN : 100341614828 Grade : 310 PF No. : GNGGN27809-0009 Department : Development PAN : ADSPY1610P  Days Paid: 31 Days Present: 23.50 Weekly Off: 0.00 LWP: 0.00 SL: 4.00 PL: 0.00 CL: 3.50  Earnings & Reimbursement... | Amt. Deductions & Recoveries... | Amt.  Basic Salary TDS on Adhoc  Gratuity TDS on Leaveincashment Leave Encashment Statutory Provident Fund House Rent Allowance TDS  Conveyance Allowance LWF  Variable Allowance  PLC  Medical Reimbursement Telephone Remb.  Performance Linked Incentive(PLI)  Total Earnings 26,350 | Total Deductions  Amount in words : FIFTY-THREE THOUSAND FOUR HUNDRED FORTY ONLY.  Bank Name : HDFC Bank Ltd. Corporate Salary Account: 04851140312208  Opening Balance Utilised Leave Balance Leave SL : 4.0000 4.0000 0.0000  PL : 13.7500 0.0000 15.0000 CL : 3.5000 3.5000 0.0000  Note : This is a computer generated payslip hence signature is not required \n",
      "\n",
      "\n",
      "\n",
      "\n",
      "EPIMONEY PRIVATE LIMITED TRANZMUTE CAPITAL, HOECHST HOUSE, VINAYAK KUMAR SHAHA MARG, NCPA NARIMAN POINT MUMBAI-400021 MAHARASHTRA  PAY SLIP For the Month of Dec/2018 (From 01/12/2018 To 31/12/2018)  Employee Name : AKHIL MOHAMMED Code : 7696 DOJ : 19/07/2018 Bank A/c No. : 091901001018 Designation : Associate Product Manager Bank Name : ICICl BANK Pay Mode : TRANSFER Gender : MALE Resignation Date i E-Mail : akhilmohammed@gmail.com Month Days : Total Paid Days  Days-Off  Unpaid Holidays  Max Payable Days  : Net Paid Days  Present Days : Paid Leaves  | ScaleRs.| AmountRs. | Deductions | Scale Rs.|__ Amount Rs.|  Earnings  BASIC SALARY 31,875.00 | PROFESSIONAL TAX 200.00 200.00 HRA 15,938.00 | TDS 2,704.00 2,704.00 TAX FREE ALLOWANCE 3,333.00  FLEXI ALLOWANCE 19,688.00  Total Earnings 70,834.00 70,834.00 | Total Deductions 2,904.00 2,904.00 Net Pay : Rs. 67,930.00 In Words : Rs. Sixty Seven Thousand Nine Hundred Thirty Only  Advance Balance Total This is Computer Generated Sheet, does not require Signature.  Authorised Signatory  \n",
      "\n",
      "\n",
      "\n",
      "\n"
     ]
    },
    {
     "name": "stdout",
     "output_type": "stream",
     "text": [
      "Q optum:  Optum Global Solutions (India) Private Limited  Optum Global Solutions (India) Private Limited  5th, 6th & 7th Office Level, Building No. 14,  Sundew Properties SEZ (Mindspace), APIIC Layout,  Survey No. 64 (part), Hi -tech City, Madhapur,  Hyderabad, Telangana — 500081  Payslip for the month of December 2018  Employee Code 001374874 Department IND OPTUM TECH IRD | Location HYDERABAD  Employee Name VASU TAKASI PF Number GN/GGN/028371/051117 | Standard Days 31  Date of Hire 22 Aug 2018 UAN 101040797548 LWOP Days 0  Designation Sr Software Engineer | ES! Number 0 Payment Mode TRANSFER  Days Worked 31 Salary Grade 26 Bank Account 50100070292501  Earnings SER ee SORE) YTD Value (INR) Deductions Argued) YTD Value (INR)  Basic Salary 45455 45455 196483 | Provident Fund 5455 23580  House Rent Allowance 22728 22728 98243 | Profession Tax 200 1000  Special Allowance 43455 43455 188483 |Labour Welfare Fund 2 2 Income Tax 1790 7612  Gross Earnings 111638 Gross Deductions 7447  Net Pay 104191 ( Rupees One Lakh Four Thousand One Hundred And Ninety One Only)  Remarks 0  “* This is a computer generated payslip and does not require signature and stamp.  \n",
      "\n",
      "\n",
      "\n",
      "\n",
      "Name : Darpan Saxena LoceiLoen : ATHL Gurgaon Company cd : Aricent Technologies (Hol  Id : 11066 Department : Delivery Emp group : Regular - Full Time Pay perlod = 01.02.2019 - 28.02.2019 Pay area : Arie = [nia Emp subgrp : ES  PAN: AZKPS4775R UAN: 100129875244 PF No: DL/14510/9699 EPS No: DL/14510/7448 Transfer date Account No. Amount a EBarnings = Deductions = 3 Adjustment  24.02.19 002101546040 i322 00 = gon; UGe.. 00 = 65,766.00 + 0,26  Basic Salary - Be PF contribution 5,528.00 CEA Annual Exemption House Rent Allowance F Ee LWF contribution TO e009 Agg of Chapter VI Children Edu Allowance TRB ig Income Tax Bo 819.00 (U/s 80C, Other than 80C) Flexible Benefit Package by LOL s Ke PF - Arrears 409.00  Annual Incentive  Basic Salary - Arrears  HRA —- AYYTears  FBP —- AYYreers  Recovery of round off am  Take Home Pay L?S, saz, 00  YTD EARNING AMOUNT ¥YIB BEDUCTI AMOUNT Form 16 Summary  Basic Salary 476,080 « Be PF contribution OY, tT Gross Salary 1,532,254. House Rent Allowance 238 9 040-0 Be LWF contribution Rao Exemption U/S 10 Children Edu Allowance 1,000. Income Tax ZAD;, DOB. Balance  Flexible Benefit Package 468,352 « Self Insurance-Additional 5, 28 e s Standard Deduction Annual Incentive Sy BAl « Insurance - Parents o, 575. Aggregate Deduction Annual Incentive 1/6, 628 » Recovery of round off amt Lx Income under Head Salary Gross Total Income  Agg of Chapter VI Total Income  Tax on total Income  Tax payable and surcharg Tax deducted so far Income Tax  \"This is a system generated payslip and requires no signature\"  \n",
      "\n",
      "\n",
      "\n",
      "\n",
      "GEMSCAP GLOBAL ANALYST PRIVATE LIMITED D/304, WING-I, THACKER'S HOUSE, 2418, GENERAL THIMMAYA ROAD, EAST STREET, PUNE, MAHARASHTRA, INDIA, 411001  GEMSCAP  Global Analyst Private Limited  Name: Asha Bhaurao Baviskar Month : Dec 18 PAN: DGYPB6967C Payable Days: 31 Designation : Equity Analyst PF UAN : 101394451472  Standard Earnings Actual Earnings Deductions  BASIC BASIC 6,000 |PF  HRA HRA 3,600  CONVEYANCE CONVEYANCE 1,000 |INCOME TAX  EDUCATION ALLOWANCE EDUCATION ALLOWANCE 200 |PROF. TAX  SPECIAL ALLOWANCE SPECIAL ALLOWANCE 12,480 |OTHER DEDUCTION INCENTIVES 121,716  STANDARD RATE GROSS PAY 144,996 |GROSS DED. 40,019  NET PAY 104,977  Income tax worksheet for the month of Dec 18 FY 2018-19 BASIC 72,000 | Section 80C RENT PAID HRA 43,200 | PROVIDENT FUND 1. ACTUAL HRA CONVEYANCE 12,000 | PUBLIC PROVIDENT FUND 2. RENT - 10% OF BASIC EDUCATION ALLOWANCE 2,400 |} LIC PREMIUM 3. 40% OF BASIC SPECIAL ALLOWANCE 149,760 | MF - TAX SAVER LEAST OF ABOVE EXEMPT INCENTIVES 2,002,237 | HSG. LOAN PRINCIPAL TUITION FEES SUB TOTAL QUALIFYING U/S 80C MEDICLAIM - 80D QUALIFYING U/S 80D  GROSS SALARY 2,281,597 | DEDUCTIONS VIA DEDUCTIONS STANDARD DEDUCTION 40,000 PROFESSIONAL TAX 2,400 EDUCATION ALLOW. LESS : INTT. ON HSG PROP. ADD: INC. OTHER SOURCES LESS: VIA DEDUCTION 8,640 TAXABLE INCOME 2,230,557 INCOME TAX LIABILITY 481,667 TAX REBATE 87A 7 SUB TOTAL 481,667 SURCHARGE 7 BASIC + SURCHARGE 481,667 CESS 4% 19,267 TOTAL TAX 500,934 TAX DEDUCTED TILL DATE 502,057 BALANCE TAX / (REFUND) (1,123)  \n",
      "\n",
      "\n",
      "\n",
      "\n",
      "|  SHRIBAM.  Life tasuitancé  Iw PARTNERSWiP with ElSanian |  i Shriram Life Insurance Company limited 5th Figo, amy Selenium, Plot Noi} & ||| nest Andi Bonk ising Cae || He | | tonto ll  PAYSLIP FOR THE MONTH OF MARCH -2010 in  Name GANESH KUMAR GUPTA PAN No aUpos273R  Rea) ead pre | | auseaseneen  Designation SALES OFFICER |PFUAN: |or2i067é010  ba Pa | [eteons  Location gripe | pac No | |  ate of eining duni2oi7 Pst Days |  [Earnings ‘Amount Arrear YTD] Deductions i | ‘YTD| asic Salary kom et | 797.90) = (Ess  [Conveyance Allowance | : 00 8001760 | Peeing VN Chie) mew  Advance Bonus | eo om isnot | {|| | Incentive eo snp 0st. in  Varialepay $e.00 0m sss0au i  aed Monsiytacenive | | | poo aco sooo] Ll  Tora arning(A) ood 336900 5751.00 Teel Dedvonst®) | 50 al 2700] Net Pay (A-B) 24664.00 | 1  ta we TWAT Fa ODS HUNDRED SITY FOL LPS OY  ti  Note! Stlary information is confidential and isnot to be sbared wich other pmpleyees.  ‘hia is computer generated paystip and di  not require any signature  \n",
      "\n",
      "\n",
      "\n",
      "\n",
      "= — ee -——— —— MASO AUTOMOTIVES _ Month DEC - 2018 | Emp Name SAVIO JOHN TAURO PVT LTD Code M178 | F-55, MIDC Area, Designation MANAGER | vaso AutouoTRsWValuj, Aurangabad 431136 Bank A/c No. | CIN No; U34300MH1979PTC020929 PF No. MH/AB/24234/475 oe | PF UAN 101312862833 \"ESIC No. PAYSLIP DoB 23-06-1975 DoJ 01-06-2018 Attendent Earning Deduction Present Days 26.0 Earnd Basic 10000.00 P.F 1200.00) WoO 50 HRA 10000.00 P.T. 200.00 PL DA ESIC SL Conv. Allow 10000.00 LWEF 12.00 CL Medical Allow 7000.00 Loan Ded PH Enterten. Allow 7000.00 Salary Advance C/Off Edu. Allow 7000.00 TDS . Payable Days 31.0 OT Amount Other Deduction OT Hrs Washing Allow 7000.00 Bank Charge Lay Off Canteen Allow 5000.00 LIC LTA a 7000.00 Union Fund Lay off Earnd LeoMOTS Fine & Penalty Staff Welfare fo i, oe \\ Telephone Chg i A\\ “te, | 3) Tea \\ ; NG >) >) _ - a -_ Net Pay ~* 68,588.00 Total Earning ey 70000.00 Total Deduction 4412.00  This is a Computer Generated Pay slip, Signature not required  \n",
      "\n",
      "\n",
      "\n",
      "\n",
      "= — ee -——— —— MASO AUTOMOTIVES _ Month DEC - 2018 | Emp Name SAVIO JOHN TAURO PVT LTD Code M178 | F-55, MIDC Area, Designation MANAGER | vaso AutouoTRsWValuj, Aurangabad 431136 Bank A/c No. | CIN No; U34300MH1979PTC020929 PF No. MH/AB/24234/475 oe | PF UAN 101312862833 \"ESIC No. PAYSLIP DoB 23-06-1975 DoJ 01-06-2018 Attendent Earning Deduction Present Days 26.0 Earnd Basic 10000.00 P.F 1200.00) WoO 50 HRA 10000.00 P.T. 200.00 PL DA ESIC SL Conv. Allow 10000.00 LWEF 12.00 CL Medical Allow 7000.00 Loan Ded PH Enterten. Allow 7000.00 Salary Advance C/Off Edu. Allow 7000.00 TDS . Payable Days 31.0 OT Amount Other Deduction OT Hrs Washing Allow 7000.00 Bank Charge Lay Off Canteen Allow 5000.00 LIC LTA a 7000.00 Union Fund Lay off Earnd LeoMOTS Fine & Penalty Staff Welfare fo i, oe \\ Telephone Chg i A\\ “te, | 3) Tea \\ ; NG >) >) _ - a -_ Net Pay ~* 68,588.00 Total Earning ey 70000.00 Total Deduction 4412.00  This is a Computer Generated Pay slip, Signature not required  \n",
      "\n",
      "\n",
      "\n",
      "\n",
      "Vodafone India Services Pvt. Ltd. O vodafone  Ground to 4th Floor, Wing - 3, Cluster - D, EON Kharadi, IT, Pune - 411014 Pay Slip for the month of January 2019  Emp. Code: 11234888 : PAN : BTSPB4396Q  Name :Apurw Bhaskar Bank Alc No : 50100013833260 Department :VISPL IT International Location : Pune  Designation : Assistant Manager Cost Centre : IN50A00338  DOB: 01/10/1989 Arrear Days : 0.00 PF No. : PUPUN03041980000007476 DOJ: 25/08/2016 Payable Days :31.00* UAN : 100924999536  DOL: Encash Day: 0.00  [Eamings «Deductions Reimbursements  Description Rate Monthly Arrear Description Amount Description Claimed Reimbursed BASIC 18,483.00) 18,483.00 18,483.00 [PF 2,218.00 HRA 9,242.00 9,242.00) 9,242.00 |PROF.TAX 200.00 MGT ALLOW 17,315.00} 17,315.00) 17,315.00 |TDS 1,277.00 SFT ALLOW 7,700.00 LTA 750.00 750.00) BROADBAND 800.00) Cash Recog 12,500.00) 12,500.00)  GROSS PAY 66,790.00 66,790.00) GROSS DED 3,695.00} TOTAL REIMB. Net Pay (including Reimbursement) : 63,095.00 (RUPEES SIXTY-THREE THOUSAND NINETY-FIVE)  ‘ome Tax Worksheet for the Period April 2018 - March 2019 Description Gross Taxable Deduction Under Chapter VI-A HRA Calculation BASIC. 218,169] 218,169 Investments u/s 80C Rent Paid 96,000 TAX HRA 109,089] 34,906] PF+VPF 26,181] From 01/04/2018 SFT ALLOW 78,400| 78,400] P PF 100,000] To 31/03/2019 MGT ALLOW 204,237| 204,237|L1P 50,000| 1. Actual HRA BONUS 57,071 57,071 2. 40% or 50% of Basic BROADBAND 8,000] 8,000} 3. Rent > 10% Basic Cash Recog 19,500] 19,500) Least of above is exempt W Holiday 1,477 1,477 Taxable HRA TAX LTA 23,419) 23.419} 11,000] 11,000)  Gross Salary 730,362) 656,179 Total of Investment u/s 80C 176,181 Deduction U/S 80C 150,000 Reimbursement Bills Submitted Till Date Previous Employer Professional Tax U/S 80D 100,000 | LTA REIMB 16,669.00 Professional Tax 2,500 Standard Deduction 40,000 Under Chapter VI-A 175,000 [Any Other Income Taxable Income 438,680 Total Tax 9,434 Tax Rebate Surcharge Tax Due 9,434 Educational Cess 377 Net Tax 9,811 Tax Deducted (Previous Employer) Tax Deducted Till Date 8,079 Tax to be Deducted 1,732 Tax / Month 227| Total of Ded Under Chapter VI-A 250,000 Tax on Non-Recurring Earnings 1,050 Tax Deduction for this month 1,277 |Interest on Housing Loan Tax Borne by the Employer on Perk Till Date 0.00  EMail ID:APURW.BHASKAR@VODAFONE.COM C2 - VODAFONE CONFIDENTIAL  \n",
      "\n",
      "\n",
      "\n",
      "\n"
     ]
    },
    {
     "name": "stdout",
     "output_type": "stream",
     "text": [
      "DISTRICT EDUCATIONAL OFFICE Page No 2  PAY STATEMENT FOR MONTH OF May , 2019 For STAFF SALARY 3 ————— meme aaa  Amount Deduction Amount Inst No  -185/c/70 DT 23/03/1971109/A3/04 DT 10/02/2005 1916  BT Assistant Post 1 Scale: - Level - 16 - index - 16  “ Name : RENAISONPAUL EmpCode(CPS) No :404855 /EDN PAN No: AMXXXXX6N Duty Pay(Basic Pay) 56800 CPS AIDED 6191 Dearness Allowance 5112 Income Tax Cess B0 House Rent Allowance 2200 Income Tax 2000 Medical Allowance 300 Festival Advance 500 5/10 Hill Allowance 6000 New Health Insurance Scheme 180  Group Insurance Scheme 60  Special Provident Fund 2000 70  Soo ed  Total Dues : 70412 Total Deduction: 9081 EEE OOOO  ** Net **61331  Dues - DU.P —- 56800 D.A = 5112 HRA - 2200 M.A. - 300 H.A - 6000 Deductions - CPA - 6191 ITCE - 80 IT - 2000 FA - 500 NHIS - 180  GIs 60 SPF2 - 70 Gross : 70412 Deduction : 9081 Net : 61331 IC-TNSC/ePay Ver.10 Dt.01-05-2017  \n",
      "\n",
      "\n",
      "\n",
      "\n",
      "|Employee No : 40015794 Emp Id : 1119992 Pay Period S09.07.0% Bil 01...29\" | |Employee Name : Gnanamani Mohanraj : 31.01.2019 | | Location : Bangalore Cost Centre : IN1275604 | |Personnel Area : EMC Software and Services In Perss Sub Area: Bangalore | |Employee Group : Full Time-FT Emp PF No : PY/KRP/45794/22195 | |Pan Number : BGYPMS674F UAN Number: 100558652662 |  |EARNINGS & ALLOWANCES INR | DEDUCTIONS INR | | Basic Salary 53,654.33 | Ee PF contribution 6,438.00 | | Special Allowance 61,034.83 | Recovery of round of 0.17 | | House Rent Allowance 19,446.67 | Personal Loan (Other 12,500.00 | | | Prof Tax - Full peri 200.00 | | | Income Tax 19,376.00 | | | EWF Deduct 200.00 | | | | | | | | | | | | | | | | | | |Gross Earnings 134,135.83 |Gross Deductions 38,713.83 | | |Net Pay 95,422.00 |  a RE OEE | | (*) denotes back pay adjustment. |  | EMPLOYER CONTRIBUTIONS | |  | ER Provident Fund 6,438.00 |YTD Gross 1,268,193.34 |  | ER ESI 0.00 |¥YTD Tax 207,188.00 |  a em aE re |  | ER NPS Contribution 0.00 |HDFCO000240 50100062168168 |  | Loan balance 125,000.00 |Net Salary Paid 95,422.00 |  | SSS SSSS SSS SS 2S SS 2S SSS S225 E5225 2222552252222 2222222222222 225222522 =>== | MESSAGE  All queries related to current month payroll must be addressed to india_payrollapj@emc.com  EMC Software and Services India Private Limited  | | | | | FBP REIMBURSEMENTS |  | Employee No:40015794 Emp Id :1119992 Pay Period :01.01.2019 -— 31.01.2019) | Employee Name : Gnanamani Mohanraj Bank Acc: | SS ee | | | | | | | | | | | | | | | | | | | | | | | | | | | | | | | SSS SSS | {GROSS REIMBURSEMENT 0.00 |DEDUCTIONS 0.00 | [SS eee [SSS eS eee | |NET REIMBURSEMENT: 0.00 | |  | {Net Reim Paid 0.00 | \n",
      "\n",
      "\n",
      "\n",
      "\n",
      "Employee No Employee Name Date of Birth  Date of Joining Designation  PAN  PRAN / EPF  IBA Heath Insurance  SyndicateBank Payslip for the month of MARCH 2019  697161  HARSHITA ARGADE 21-Jan-1989  25-May-2015  ASST MANAGER ASUPA2212Q  110075745405 BLR-UI-10580-001-0025700-A  Scale BIC / Branch RO BIC /RO ZO BIC /ZO Customer ID Bank A/C No Phone E-Mail  JMGS | 5011 - MUMBAI ANDHERI EAST 5095 - MUMBAI-II R O 5531 - MUMBAI ZO 47645354 7862202000001 : 6871743627(P)  Leave and Other Information As on 30.03.2019  Leave Type  Casual Leave  Privilege Leave  Sick Leave  Un-availed Casual Leave  Basic Pay  Dearness Allowance(61.10%) Special Allowance(7.75%) City Compensation Allowan  Balance Avallable (Days 7|LFC Block 71| Current LFC Term  Increment Date Pension Type  LFC / PL Encashment / Pension / Other Details  : 25-May-2015 - 24-May-2019 : 25-May-2017 - 24-May-2019  : 01-May-2019 : NPS  Deductions  NPS Contribution Professional Tax  Income Tax  DRF Deduction  Festival Advance Instlmnt Union Association-SBOA DTQ  Total Deductions . 12,010.33  Net Salary Paid 36803.92  Rupees Thirty Six Thousand Eight Hundred Three And Ninety Two Paise Only FORM 16 SUMMARY  FOR INFORMATION:  **Pay slip is only for the information of the employee concerned and can't be produced for obtaining any kind of loan from any institution. *Variations if any observed in earnings/deductions when compared with pay register is to be brought to the notice of HO: HRMS through SyndHelp application.  ie Vee  Naot  4 ‘  This pay slip is generated from the centrallzed HRMS system and data Is held electronically In the centralised system.  Generated by : 697161, on 30-Mar-2019 at 07:21:31 PM.  1 of 1 \n",
      "\n",
      "\n",
      "\n",
      "\n",
      "Cognizant Technology Solutions India Private Ltd Co gni 270 nt Payslip for the month of Mar 2019 Financial Period 2018-2019 Private & Confidential  Associate Information Mr. Vaibhav Sawatkar Nanya MBP) BM ROAST  Sr. Analyst - Biz Development PAN DWxxxxxx4N Male Bank A/C XXXXXXXX4883  psaycane Fst Nan TS TN/MAS/31309/360545 Salary Credited  100743724293 Available Calendar Days 31 - Paid Days 31  (A) Total Earnings 193,450||(B) Total Deduction  Net Salary = (A) - (B) 78,795  Attested  Registered Office:Cognizant Technology Solutions India Private Limited # 5/535, old Mahabalipuram Road, Chennai - 600 097.  Page 1 of 1 \n",
      "\n",
      "\n",
      "\n",
      "\n"
     ]
    }
   ],
   "source": [
    "import glob\n",
    "for img in glob.glob(\"C:/Users/kartikay.gupta/images/*.jpg\"):\n",
    "    text = convert_image_to_text(img)\n",
    "    text= text.replace('\\n', ' ')\n",
    "    print(text)\n",
    "    print('\\n\\n\\n')\n",
    "    "
   ]
  },
  {
   "cell_type": "code",
   "execution_count": 8,
   "id": "108d7af9",
   "metadata": {},
   "outputs": [
    {
     "name": "stdout",
     "output_type": "stream",
     "text": [
      "State Bank of India Pa slip oO SBI HRMS Department March 2019  PERNR/Emp .No. 00821532 PRAN No. 110057974107 PF Index No 08215324  Name Shri. Vivek Kumar Date of Birth 15.04.1978  Position/Desig. CUSTOMER ASSISTANT Date of Joining} 16.01.2017  Department. Palam Colony Delhi  Branch/Office Palam colony De Leave Balance as on 28.03.2019  PAN No. ATQPM3566M CL :8 PL :23 UCL :2  Mobile: 9013215304 | E-Mail: vivek.kumar231@sbi.co.in DA: 61.10 %  Earnings = Deductions (Cr. to A/c No.) =  Basic Pay 31,540.00 | Emp. PF contribution 3,318.00  Dearness Allw 21,766.48 I.Tax ded. during month 38,229.00  House Rent Allwance 3,318.00 Festival Advance Rec. (37463512533) 6,100.00  Transport Allw 470.00 | Union/Associa Membership(SBI STAFF 100.00 ASSOCI (DELHT) )  Special Allowance 2,444.35 | Contributory Pension Fun 5,346.00  Special Pay-New 1,640.00  Total 61,178.83 | Total 53,093.00 Take Home Pay (20077469848) 8,086.00  NEXT INCREMENT DATE: 01.01.2021 Projected Tax Summary  Gross Salary 950,788.16 Tax on total Income 54,658.00 Er. CPF/NPS Contribution 61,425.00 Tax payable and surcharg 56,845.00 Balance 1,012,213.00 Tax ded. up to last mont 18,616.00 Std Deduction 40,000.00 I.Tax ded. during month 38,229.00 Aggrg Deduction 40,000.00 Amt. Tax Paid Perk -TPER 4,390.00 Incm under Hd Salary 972,213.00 Tax Paid on Perk 4,040.00 Gross Tot Income 972,213.00 Bal Tax Paid on Perk 350.00 Ded. Sec. 80C/ccc 200,000.00 Er. CPF/NPS Exemption 61,425.00 Total Income 710,790.00 Tax on total Income 54,658.00  Please claim reimbursements of 4in1/3in1/2in1, Entertainment & Medical Expenses on or before 11.03.2019 due to Annual Closing.  PI check CDS Score for Budgetary/Measurable KRAs. CDS Performance is available on MYHRMS APP. If any discrepancy, PI report to Circle CDS Dept.  Kw wee  s  \n",
      "\n",
      "\n",
      "\n",
      "\n",
      "Cognizant  Cognizant Technology Solutions India Private Ltd  Payslip for the month of May 2019  Financial Period 2019-2020  Private & Confidential  Associate Information  Mr. Abhishek Dubey  Associate Id 580636 Location COG Deccan Campus (CDC) SEZ.  Designation Sr. Associate - Projects PAN AQuooxxxxd  Gender Male Bank A/C XAKXAAAS 72  Date Of Joining 07-Jul-2016 ESI Number -  PF A/C TN/MAS/31309/376281 Status Salary Credited  UAN 100751077315 Available Calendar Days 31  SA Policy No - Paid Days 31  SA LIC ID - Loss of Pay Days 0  Earnings Amount Deductions Amount  Basic 35,700] |ProfessionTax 200  House Rent Allowance 16,000] | Provident Fund 4,284  Conveyance Allowance 1,600]/TDS 19,682  Medical Allowance tv)  Special Allowance 41,383  Project Specific Payout 62,444  Skill Premium Allowance 7,500  (A) Total Earnings 164,627||(B) Total Deduction 24,166 Net Salary = (A) - (B) 140,461  This is a computer generated payslip, and is not valid unless authorized.  Registered Office:Cognizant Technology Solutions India Private Limited # 5/535, old Mahabalipuram Road, Chennai - 600 097.  Page 1 of 1 \n",
      "\n",
      "\n",
      "\n",
      "\n",
      "OIL AND NATURAL GAS CORPORATION LTD. MUMBAI  PAY SLIP FOR THE MONTH February 2019 SR.NO onGcc NAME RANA BOSE CPF NO. 72818 BILL 809 DESGN Chief Engineer ( Production ) UNIT MUMBAI HIGH SURFACE  POSITION HSE-HSE EXECUTIVE  PAN NUMBER ADSPB9873B  PAYSCALE 100000 - 260,000 PAY RATE 187530 EPS-48797/100306940306 ERC-EPS 1,250.00 DATE OF BIRTH 24.11.1966 ERC-PRBS 30604.95 DATE OF JOINING ONGC 04.09.1991 ERC-CPF 23234.00 ERC-CSSS 2,000.00 DATE OF LAST PROMOTION 01.01.2012 BANK ACCOUNT NO. 7000333210424305 Position 70098602 Org. Key MUMB150005013 EARLIEST RETRO DATE 01.07.2007 EARNINGS DEDUCTIONS EXEMPTION/OTHER INCOME Basic Pay 187530.00 |CPE EEC 24484.00 |Other Exemp 11,000 PP-High.Qlfn. 1400.00 |Income Tax 409829.00 |Sec 24 110,408 Other Cafeteria 20628.30 |CSS Scheme 2,000.00 LFA Allowance-Ca 22503.60 |Emp PRBS contrib 6,120.99 CEA-Tution Fee A 22503.60 |PRBS Addl 10,289.22 FamilyPlAdjin ASTO Rec 25.00 WG value adjust- 820.46-|Rec White goods 188118.00 House Rent Allow 45007.20 |Coin Adjus 0.38- Variable DA 16503.00 CMRE 12610.00 Transport Allowa Arr. Hard Duty 22503.60 | ee eee nnn ncn nssnan Interim/Adv. PRP 661728.04 TOT EARN. 1012096.83 Coin Adjus 0.05- TOT DEDN. 684785.83 NET PAY 327311.00 LOAN TYPE INSTL BALANCE ACC. INTRST Car/4 Wheeler 5,000.00 120,000.00 115947.78 Education Loan - lst 10,920.00 720,680.00 56850.51 HBA for Construction of Flat 28,000.00 2071,000.00 608760.70 YTD EARNINGS YTD DEDUCTIONS PAY 2029000 |Incentive 916,193 |CPF 255,161 |HCMRS sch 6,920 DA 112,746 |CMRE 113,249 |CSSS 22,000 |Tot Incm 5125651 HRA 483,264 |Hard Duty 219,128 |HBA Rec 308,000 |Tax Incm 5096757 |Other (T) 690,134 |WG Rent 973 | Other (NT) 23,294 |Eec PRBS 176,971 | Transport 5,600 |Erc PRBS 318,951 |Other Pay 137,570 |I. Tax 1,493,894 |Prev.Yrs. 395,470 |Erc PRBS 318,951 Message PERKS | SAVINGS SEC80C | FORM 16 Int Loan 140,226 |LIC/ULIP 63600|Gross Sal 6089,422 |Ded us 80 150,000 Asset Tra 5,928 |Other 88 90000 | Income 6038,423 |Exemp 10 11,000 PRBS perk 199,556 | |Oth Incm 110,408-|I.Tax&Sur 1768,515 |Std Dedn 40,000 |Tax Payab 175,059  \n",
      "\n",
      "\n",
      "\n",
      "\n",
      "OIL AND NATURAL GAS CORPORATION LTD. MUMBAI  PAY SLIP FOR THE MONTH February 2019 SR.NO onGcc NAME RANA BOSE CPF NO. 72818 BILL 809 DESGN Chief Engineer ( Production ) UNIT MUMBAI HIGH SURFACE  POSITION HSE-HSE EXECUTIVE  PAN NUMBER ADSPB9873B  PAYSCALE 100000 - 260,000 PAY RATE 187530 EPS-48797/100306940306 ERC-EPS 1,250.00 DATE OF BIRTH 24.11.1966 ERC-PRBS 30604.95 DATE OF JOINING ONGC 04.09.1991 ERC-CPF 23234.00 ERC-CSSS 2,000.00 DATE OF LAST PROMOTION 01.01.2012 BANK ACCOUNT NO. 7000333210424305 Position 70098602 Org. Key MUMB150005013 EARLIEST RETRO DATE 01.07.2007 EARNINGS DEDUCTIONS EXEMPTION/OTHER INCOME Basic Pay 187530.00 |CPE EEC 24484.00 |Other Exemp 11,000 PP-High.Qlfn. 1400.00 |Income Tax 409829.00 |Sec 24 110,408 Other Cafeteria 20628.30 |CSS Scheme 2,000.00 LFA Allowance-Ca 22503.60 |Emp PRBS contrib 6,120.99 CEA-Tution Fee A 22503.60 |PRBS Addl 10,289.22 FamilyPlAdjin ASTO Rec 25.00 WG value adjust- 820.46-|Rec White goods 188118.00 House Rent Allow 45007.20 |Coin Adjus 0.38- Variable DA 16503.00 CMRE 12610.00 Transport Allowa Arr. Hard Duty 22503.60 | ee eee nnn ncn nssnan Interim/Adv. PRP 661728.04 TOT EARN. 1012096.83 Coin Adjus 0.05- TOT DEDN. 684785.83 NET PAY 327311.00 LOAN TYPE INSTL BALANCE ACC. INTRST Car/4 Wheeler 5,000.00 120,000.00 115947.78 Education Loan - lst 10,920.00 720,680.00 56850.51 HBA for Construction of Flat 28,000.00 2071,000.00 608760.70 YTD EARNINGS YTD DEDUCTIONS PAY 2029000 |Incentive 916,193 |CPF 255,161 |HCMRS sch 6,920 DA 112,746 |CMRE 113,249 |CSSS 22,000 |Tot Incm 5125651 HRA 483,264 |Hard Duty 219,128 |HBA Rec 308,000 |Tax Incm 5096757 |Other (T) 690,134 |WG Rent 973 | Other (NT) 23,294 |Eec PRBS 176,971 | Transport 5,600 |Erc PRBS 318,951 |Other Pay 137,570 |I. Tax 1,493,894 |Prev.Yrs. 395,470 |Erc PRBS 318,951 Message PERKS | SAVINGS SEC80C | FORM 16 Int Loan 140,226 |LIC/ULIP 63600|Gross Sal 6089,422 |Ded us 80 150,000 Asset Tra 5,928 |Other 88 90000 | Income 6038,423 |Exemp 10 11,000 PRBS perk 199,556 | |Oth Incm 110,408-|I.Tax&Sur 1768,515 |Std Dedn 40,000 |Tax Payab 175,059  \n",
      "\n",
      "\n",
      "\n",
      "\n",
      "diadeis i  creating brand efficiency  ALIA PREMEDIA SERVICES PRIVATE LIMITED SALARY SLIP FOR MAY 2019  PAN UAN NUMBER BANK NAME BANK A/C NO MONTH DAYS DAYS PAYABLE LOP DAYS  EMPLOYEE NO 2755  EMPLOYEE NAME :RAMESH GAIKWAD  D. O. J. :22/04/2019  DEPARTMENT : HARMONY  DESIGNATION :SOFTWARE QA  LOCATION :MUMBAI  PF NUMBER  PARTICULARS RATE BASIC PAY 21334.00 H.R.A. 10667.00 SPECIAL ALLOWANCE 16351.00 CONVEYANCE 1600.00 EDUCATION ALLOWANCE 2133.00 MEDICAL REIM. 1250.00  -00| PROFESSIONAL TAX -00| INCOME TAX -00| PROVIDENT FUND  AQLPG25500 HDFC BANK 50100285124227 31.00 31.00 0.00 DEDUCTIONS 200.00 1700.00 1800.00 3700.00 49635.00  \n",
      "\n",
      "\n",
      "\n",
      "\n",
      "PayManager  DDO Code : S.P. GANGANAGAR TV No & Date:32612 & 05/08/2019  aera ATA  Name:PAWAN KUMAR FC 1862 HAIN Tey BEAT  EMP ID:RJGA200835004086  srr /ardiewsax  GPF/CPFNo :2008-13501597 CC OMEIIRCIE  aaa wef Pay Slip  Bill No. & Date:777 & 21/07/2019  Teo  Designation:#Ieaeaat a Orel Heat Bank A/C No:61042831512  Ue 3s tat  SI No.:1075404  Bank/Branch :STATE BANK OF INDIA/JAWAHAR NAGAR, SRIGANGANAGAR  Earnings(Rs.)  Basic 29600.00 DA 3552.00 HDA 2763.00 HRA 2368.00 Mess All 2000.00 Wash Allo. 113.00 WHat acter  Gross Pay : 40396.00  Deductions(Rs.)  ECPenF 3315.00 SIP 3000.00 Het Helieray  Total Deduction : 6315.00  ©  Month/Year :Jul-2019  Month:Jul Acer ATeT  Pay Scale:L8 tat aa  PAN:BHOPK4401P  Wet lat  PRAN No :110081721930  fran acter Net Pay : 34081.00  4 INFORMATICS S/W Developed : National Informatics Centre, Rajasthan State Unit (http://paymanager.raj.nic.in)  \n",
      "\n",
      "\n",
      "\n",
      "\n"
     ]
    },
    {
     "name": "stdout",
     "output_type": "stream",
     "text": [
      "Employee Code :  Name:  Join Date :  Org.Unit :  Department :  Designation :  Earnings  Basic Pay + DA House Rent Allowance  Misc. Allowances (withdrawable) Arrears  Incentive GMI release (NA) NPS Emplyr Contribution  Gross Earnings  MUTHOOT FINANCE LIMITED  Pay Slip for the month of August-2019  MF36737  SALAHUDEEN MA  3-Oct-2016  CYBERABAD-AUDIT  BRANCH  IJR.AUDIT EXECUTIVE (GOLD)  15,100.00 8,515.00  7,000.00 0.00 0.00 0.00 0.00  30,615.00  Bank Account No : PF No: 49235  UAN No 100939687541 Total Days : 31  LOP days : 0.0  Provident Fund ESI  Loan Repayment  Other Deductions  Lop  NPS Employee Contribution TDs  Professional Tax  Salary Advance  GMI withheld  Gross Deductions  20186984865  Paid Days : 31.0  1,800.00 0.00 0.00 0.00 0.00 0.00 0.00  200.00 0.00 0.00  2,000.00  Net Amount:  28,615.00  In Words :  Rupees Twenty-Eight Thousand Six Hundred Fifteen Only  \n",
      "\n",
      "\n",
      "\n",
      "\n",
      "When it's about money. IIFL SECURITIES LIMITED  Bz 7 PAYSLIP FOR THE MONTH OF JUN 2019 Pali i'L ¥  Employee Name : ANOOP KUMAR SINGH Employee Code :C149494  Designation : SALES MANAGER Location : KANPUR  Department : SALES Join Date : 16/05/2017  PAN Number : AYEPS6102K PF account No. : KDMAL00446990000024304  Branch : KANPUR-BHARGAVA ESTATE Bank Acc. No. : 916010017839708  Bank Name : AXIS Grade : DEPUTY MANAGER  No. Of Working Days : 30.00 Leave Taken : 00.00  UAN NO > 101126652264 LWP. : 00.00  ESIC NO : [___—S—SEARNINGS——SC~—CS| ~SSCSC~C~CSCSCS DEDUCTIONS CC”  BASIC SALARY 14579.00 Mobile Recovery 2633.00  HOUSE RENT ALLOWANCE 7290.00 | STATUTORY PF 1800.00  CONVEYANCE ALLOWANCE 1600.00  EDUCATION 200.00  LEAVE TRAVEL ALLOWANCE 1215.00  MEDICAL ALLOWANCE 1250.00  MEAL ALLOWANCE 2200.00  SUPPLEMENTARY ALLOWANCE 17439.00  Gross Amount 45773.00 Total Deduction 4433.00 Net Salary 41340.00  In Words : Rupees Forty-One Thousand Three Hundred Forty only  Note : Since this is a computer-generated statement, it does not need any signature. \n",
      "\n",
      "\n",
      "\n",
      "\n",
      "= CIPLA LIMITED i Gd CIPLA HOUSE LOWER PAREL MUMBAI - 400013 Pay Slip for the month of June 2019 All amounts in INR  Emp Code : 107177 Location : Indore  Emp Name : Sunil Rameshwar Bunkar IFSC Code : ICIC  Department : Tablet Manufacturing Bank A/c No. 53201512196 (ICICI Bank) Designation : Assistant Manager PAN AYHPB5362K  Grade : Cl PF No. : MH/1073/107177  DoB : 04 Nov 1986 DOJ:03 Nov 2014 Payable Days:30.00 LWP:0.00 |PF UAN. 00474150677 ESI No. Arrear Day(s) 0.00) pension Number : MH/1073/91322  Deductions Description Monthly Arrear Description ‘Amount Basic .  House Rent Allowance  Basket of Allowances : . . : Canteen_Recovery Lwf_Ded Transportation_Recovery | sos EARNINGS | _7990.00|_-avas0.00| 0.00 __a7a90.00| __GROSS DEDUCTIONS | 2202.80] Net Pay : 45787.00 (FOURTY FIVE THOUSAND SEVEN HUNDRED EIGHTY SEVEN ONLY)  Income Tax Worksheet for the Period April 2019 - March 2020 Description Gross Exempt Taxable Deduction Under Chapter VI-A Taxable HRA Calculation Non-Metro)  Basic 143412.00 0.00| 143412.00 JInvestments u/s 80C Rent Paid  House Rent Allowance 71712.00 0.00 71712.00 | Housing Loan Repayment : From: 01/04/2019 Basket of Allowances 360756.00 0.00| 360756.00 | LIC DIRECT : To: 31/03/2020 Advance Bonus_YTD 3663.00 0.00 3663.00 || Mutual Fund : 1. Actual HRA 71712.00 Advance Bonus QTY 1221.00 0.00 1221.00 | Provident Fund : 2. 40% or 50% of Basic 57365.00 Tuition Fee : 3. Rent - 10% Basic 0.00 Least of above is exempt 0.00 Taxable HRA 0.00  580764.00 : 580764.00 | Total Investments u/s 80C |149494.00 Tax Working 149494.00 Standard Deduction , 32359.00 ] TDS Deducted Monthly Previous Employer Taxable Income Total Ded Under Chapter VI-A181853.00 |Month Amount  Previous Employer Professional Tax . April-2019 Professional Tax . May-2019  Under Chapter VI-A . June-2019 Any Other Income : Tax Deducted on Perg.  Taxable Income Total  Total Tax  Tax Rebate u/s 87a  Surcharge  Tax Due  Health and Education Cess  Net Tax  Tax Deducted (Previous Employer) Tax Deducted on Perq.  Tax Deducted on Any Other Income. Tax Deducted Till Date  Tax to be Deducted  Tax per month  Tax on Non-Recurring Earnings : Interest Paid on Housing Loan |120850.47 Tax Deduction for this month 0.00) Total Any Other Income  \n",
      "\n",
      "\n",
      "\n",
      "\n"
     ]
    }
   ],
   "source": [
    "for pdf in glob.glob(\"C:/Users/kartikay.gupta/pdf/*.pdf\"):\n",
    "    text = get_text_from_any_pdf(pdf)\n",
    "    text= text.replace('\\n', ' ')\n",
    "    print(text)\n",
    "    print('\\n\\n\\n')"
   ]
  },
  {
   "cell_type": "code",
   "execution_count": null,
   "id": "71d0b606",
   "metadata": {},
   "outputs": [],
   "source": []
  }
 ],
 "metadata": {
  "kernelspec": {
   "display_name": "Python 3 (ipykernel)",
   "language": "python",
   "name": "python3"
  },
  "language_info": {
   "codemirror_mode": {
    "name": "ipython",
    "version": 3
   },
   "file_extension": ".py",
   "mimetype": "text/x-python",
   "name": "python",
   "nbconvert_exporter": "python",
   "pygments_lexer": "ipython3",
   "version": "3.9.12"
  }
 },
 "nbformat": 4,
 "nbformat_minor": 5
}
